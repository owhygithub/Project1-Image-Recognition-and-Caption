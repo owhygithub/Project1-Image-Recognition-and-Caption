{
  "cells": [
    {
      "cell_type": "markdown",
      "metadata": {
        "id": "0FmLTZXJRbwP"
      },
      "source": [
        "## Image Recognition and Object Detection\n",
        "\n",
        "ImageNet + ObjectNet + Places Datasets"
      ]
    },
    {
      "cell_type": "code",
      "execution_count": 10,
      "metadata": {
        "colab": {
          "base_uri": "https://localhost:8080/"
        },
        "id": "U-2czXWSjsYn",
        "outputId": "f517ed50-d14f-4bbf-9c26-e4b9f2522ecb"
      },
      "outputs": [
        {
          "name": "stdout",
          "output_type": "stream",
          "text": [
            "Requirement already satisfied: tinyimagenet in /Library/Frameworks/Python.framework/Versions/3.11/lib/python3.11/site-packages (0.9)\n",
            "Requirement already satisfied: torchvision in /Library/Frameworks/Python.framework/Versions/3.11/lib/python3.11/site-packages (from tinyimagenet) (0.15.2)\n",
            "Requirement already satisfied: numpy in /Library/Frameworks/Python.framework/Versions/3.11/lib/python3.11/site-packages (from torchvision->tinyimagenet) (1.24.3)\n",
            "Requirement already satisfied: requests in /Library/Frameworks/Python.framework/Versions/3.11/lib/python3.11/site-packages (from torchvision->tinyimagenet) (2.31.0)\n",
            "Requirement already satisfied: torch==2.0.1 in /Library/Frameworks/Python.framework/Versions/3.11/lib/python3.11/site-packages (from torchvision->tinyimagenet) (2.0.1)\n",
            "Requirement already satisfied: pillow!=8.3.*,>=5.3.0 in /Library/Frameworks/Python.framework/Versions/3.11/lib/python3.11/site-packages (from torchvision->tinyimagenet) (9.5.0)\n",
            "Requirement already satisfied: filelock in /Library/Frameworks/Python.framework/Versions/3.11/lib/python3.11/site-packages (from torch==2.0.1->torchvision->tinyimagenet) (3.12.2)\n",
            "Requirement already satisfied: typing-extensions in /Library/Frameworks/Python.framework/Versions/3.11/lib/python3.11/site-packages (from torch==2.0.1->torchvision->tinyimagenet) (4.6.3)\n",
            "Requirement already satisfied: sympy in /Library/Frameworks/Python.framework/Versions/3.11/lib/python3.11/site-packages (from torch==2.0.1->torchvision->tinyimagenet) (1.12)\n",
            "Requirement already satisfied: networkx in /Library/Frameworks/Python.framework/Versions/3.11/lib/python3.11/site-packages (from torch==2.0.1->torchvision->tinyimagenet) (3.1)\n",
            "Requirement already satisfied: jinja2 in /Library/Frameworks/Python.framework/Versions/3.11/lib/python3.11/site-packages (from torch==2.0.1->torchvision->tinyimagenet) (3.1.2)\n",
            "Requirement already satisfied: charset-normalizer<4,>=2 in /Library/Frameworks/Python.framework/Versions/3.11/lib/python3.11/site-packages (from requests->torchvision->tinyimagenet) (3.1.0)\n",
            "Requirement already satisfied: idna<4,>=2.5 in /Library/Frameworks/Python.framework/Versions/3.11/lib/python3.11/site-packages (from requests->torchvision->tinyimagenet) (3.4)\n",
            "Requirement already satisfied: urllib3<3,>=1.21.1 in /Library/Frameworks/Python.framework/Versions/3.11/lib/python3.11/site-packages (from requests->torchvision->tinyimagenet) (1.26.16)\n",
            "Requirement already satisfied: certifi>=2017.4.17 in /Library/Frameworks/Python.framework/Versions/3.11/lib/python3.11/site-packages (from requests->torchvision->tinyimagenet) (2023.5.7)\n",
            "Requirement already satisfied: MarkupSafe>=2.0 in /Library/Frameworks/Python.framework/Versions/3.11/lib/python3.11/site-packages (from jinja2->torch==2.0.1->torchvision->tinyimagenet) (2.1.3)\n",
            "Requirement already satisfied: mpmath>=0.19 in /Library/Frameworks/Python.framework/Versions/3.11/lib/python3.11/site-packages (from sympy->torch==2.0.1->torchvision->tinyimagenet) (1.3.0)\n",
            "\n",
            "\u001b[1m[\u001b[0m\u001b[34;49mnotice\u001b[0m\u001b[1;39;49m]\u001b[0m\u001b[39;49m A new release of pip is available: \u001b[0m\u001b[31;49m23.2\u001b[0m\u001b[39;49m -> \u001b[0m\u001b[32;49m23.2.1\u001b[0m\n",
            "\u001b[1m[\u001b[0m\u001b[34;49mnotice\u001b[0m\u001b[1;39;49m]\u001b[0m\u001b[39;49m To update, run: \u001b[0m\u001b[32;49mpip install --upgrade pip\u001b[0m\n"
          ]
        }
      ],
      "source": [
        "import os\n",
        "!pip install tinyimagenet"
      ]
    },
    {
      "cell_type": "code",
      "execution_count": 11,
      "metadata": {
        "id": "qDG_wYnA_MpU"
      },
      "outputs": [],
      "source": [
        "import torch\n",
        "import numpy as np\n",
        "import torch.nn as nn\n",
        "import torch.optim as optim\n",
        "import matplotlib.pyplot as plt\n",
        "import torch.nn.functional as F\n",
        "import torchvision.transforms as transforms\n",
        "from torchsummary import summary\n",
        "from torchvision import datasets\n",
        "from torchvision.datasets import CIFAR10\n",
        "from torchvision.transforms import Compose, ToTensor, Lambda\n",
        "from torch.utils.data import DataLoader, TensorDataset, Dataset\n",
        "from tqdm import tqdm\n",
        "from PIL import Image\n",
        "from mpl_toolkits.axes_grid1 import ImageGrid\n",
        "\n",
        "from tinyimagenet import TinyImageNet\n",
        "from pathlib import Path\n",
        "import logging\n",
        "\n",
        "device = \"cuda\" if torch.cuda.is_available() else \"cpu\""
      ]
    },
    {
      "cell_type": "markdown",
      "metadata": {
        "id": "NnOiSe3POIae"
      },
      "source": [
        "#### What next?\n",
        "\n",
        "PLAN:\n",
        "1. Setup and load data\n",
        "2. Preprocessing data\n",
        "3. Building Neural Network Model\n",
        "4. Evaluation\n",
        "5. ChatGPT / or other GPT API\n",
        "6. Testing"
      ]
    },
    {
      "cell_type": "code",
      "execution_count": 15,
      "metadata": {
        "colab": {
          "base_uri": "https://localhost:8080/"
        },
        "id": "_kxUJyl0jqOq",
        "outputId": "fe1cca85-9d17-486d-8010-f5165e30022d"
      },
      "outputs": [
        {
          "name": "stdout",
          "output_type": "stream",
          "text": [
            "TinyImageNet, split validation, has  10000 samples.\n",
            "TinyImageNet, split train, has  100000 samples.\n",
            "TinyImageNet, split test, has  10000 samples.\n",
            "Showing info of 5 samples from the training split...\n",
            "Sample of class   0, image, words ['goldfish', ' Carassius auratus']\n",
            "Sample of class  40, image, words ['walking stick', ' walkingstick', ' stick insect']\n",
            "Sample of class  80, image, words ['bucket', ' pail']\n",
            "Sample of class 120, image, words ['miniskirt', ' mini']\n",
            "Sample of class 160, image, words ['teapot']\n",
            "Showing info of 5 samples from the validation split...\n",
            "Sample of class   0, image, words ['goldfish', ' Carassius auratus']\n",
            "Sample of class  40, image, words ['walking stick', ' walkingstick', ' stick insect']\n",
            "Sample of class  80, image, words ['bucket', ' pail']\n",
            "Sample of class 120, image, words ['miniskirt', ' mini']\n",
            "Sample of class 160, image, words ['teapot']\n"
          ]
        }
      ],
      "source": [
        "logging.basicConfig(level=logging.INFO)\n",
        "\n",
        "transform = transforms.Compose([\n",
        "    # transforms.Resize(256),          # Resize images to a consistent size\n",
        "    # transforms.CenterCrop(224),      # Crop a central 224x224 region\n",
        "    transforms.ToTensor(),           # Convert images to PyTorch tensors\n",
        "    # transforms.Normalize(\n",
        "    #     mean=[0.485, 0.456, 0.406],  # Normalize with ImageNet statistics\n",
        "    #     std=[0.229, 0.224, 0.225]\n",
        "    # ),\n",
        "])\n",
        "\n",
        "dataset_val = TinyImageNet(Path(\"~/.torchvision/tinyimagenet/\"),split=\"val\", transform=transform)\n",
        "dataset_train = TinyImageNet(Path(\"~/.torchvision/tinyimagenet/\"),split=\"train\", transform=transform)\n",
        "dataset_test = TinyImageNet(Path(\"~/.torchvision/tinyimagenet/\"),split=\"test\", transform=transform)\n",
        "\n",
        "n_val = len(dataset_val)\n",
        "n_train = len(dataset_train)\n",
        "n_test = len(dataset_test)\n",
        "print(f\"TinyImageNet, split validation, has  {n_val} samples.\")\n",
        "print(f\"TinyImageNet, split train, has  {n_train} samples.\")\n",
        "print(f\"TinyImageNet, split test, has  {n_test} samples.\")\n",
        "\n",
        "n_samples = 5\n",
        "print(f\"Showing info of {n_samples} samples from the training split...\")\n",
        "for i in range(0, n_train, n_train // n_samples):\n",
        "    image, klass = dataset_train[i]\n",
        "    print(f\"Sample of class {klass:3d}, image, words {dataset_train.idx_to_words[klass]}\")\n",
        "\n",
        "print(f\"Showing info of {n_samples} samples from the validation split...\")\n",
        "for i in range(0, n_val, n_val // n_samples):\n",
        "    image, klass = dataset_val[i]\n",
        "    print(f\"Sample of class {klass:3d}, image, words {dataset_val.idx_to_words[klass]}\")\n",
        "\n",
        "##### DISTINCT OBJECTS"
      ]
    },
    {
      "cell_type": "code",
      "execution_count": 18,
      "metadata": {
        "id": "YXa1T_r-jqMf"
      },
      "outputs": [],
      "source": [
        "# dataset = training images\n",
        "\n",
        "# dataset_train = dataset_train.data\n",
        "# data_from_testing = test_data.data\n",
        "\n",
        "# convert to Tensors\n",
        "# color_tensor = torch.tensor(dataset_train, dtype=torch.float32)\n",
        "\n",
        "# Creating grayscale and color datasets\n",
        "# gray_dataset = TensorDataset(gray_tensor, color_tensor)\n",
        "\n",
        "# creating dataloaders\n",
        "batch_size = 64\n",
        "train_loader = DataLoader(dataset_train, batch_size=batch_size, shuffle=True)"
      ]
    },
    {
      "cell_type": "code",
      "execution_count": 19,
      "metadata": {
        "id": "hVJolMzQjpz2"
      },
      "outputs": [],
      "source": [
        "# VAE\n",
        "# CNN - Network\n",
        "class imageNet(nn.Module):\n",
        "    def __init__(self):\n",
        "        super(imageNet, self).__init__()\n",
        "        self.conv_layers = nn.Sequential(\n",
        "            nn.Conv2d(3, 16, kernel_size=3, stride=1, padding=1),\n",
        "            nn.ReLU(),\n",
        "            nn.AvgPool2d(4, stride=2),\n",
        "            nn.Conv2d(16, 32, kernel_size=3, stride=1, padding=1),\n",
        "            nn.ReLU(),\n",
        "            nn.AvgPool2d(4, stride=2),\n",
        "            nn.Conv2d(32, 64, kernel_size=3, stride=1, padding=1), # extracting features\n",
        "            nn.Softmax()\n",
        "        )\n",
        "\n",
        "    def forward(self, x): # Forward prop\n",
        "        x = self.conv_layers(x)\n",
        "        return x"
      ]
    },
    {
      "cell_type": "code",
      "execution_count": 20,
      "metadata": {
        "colab": {
          "base_uri": "https://localhost:8080/"
        },
        "id": "SqvdUbvZjpsY",
        "outputId": "95158ebb-ffcc-43b0-8a9c-51993ec9917c"
      },
      "outputs": [
        {
          "data": {
            "text/plain": [
              "imageNet(\n",
              "  (conv_layers): Sequential(\n",
              "    (0): Conv2d(3, 16, kernel_size=(3, 3), stride=(1, 1), padding=(1, 1))\n",
              "    (1): ReLU()\n",
              "    (2): AvgPool2d(kernel_size=4, stride=2, padding=0)\n",
              "    (3): Conv2d(16, 32, kernel_size=(3, 3), stride=(1, 1), padding=(1, 1))\n",
              "    (4): ReLU()\n",
              "    (5): AvgPool2d(kernel_size=4, stride=2, padding=0)\n",
              "    (6): Conv2d(32, 64, kernel_size=(3, 3), stride=(1, 1), padding=(1, 1))\n",
              "    (7): Softmax(dim=None)\n",
              "  )\n",
              ")"
            ]
          },
          "execution_count": 20,
          "metadata": {},
          "output_type": "execute_result"
        }
      ],
      "source": [
        "model = imageNet()\n",
        "model.to(device) # move to device"
      ]
    },
    {
      "cell_type": "code",
      "execution_count": 23,
      "metadata": {
        "colab": {
          "base_uri": "https://localhost:8080/",
          "height": 532
        },
        "id": "upPAnC4VjpoM",
        "outputId": "00db99fd-bf89-45bb-f7fe-2bdd70373b83"
      },
      "outputs": [
        {
          "name": "stdout",
          "output_type": "stream",
          "text": [
            "inputs\n",
            "tensor([[[[0.9451, 0.9412, 0.9451,  ..., 0.9020, 0.9020, 0.9020],\n",
            "          [0.9451, 0.9412, 0.9373,  ..., 0.9059, 0.9020, 0.9020],\n",
            "          [0.9412, 0.9373, 0.9333,  ..., 0.9059, 0.9059, 0.9020],\n",
            "          ...,\n",
            "          [0.8667, 0.8667, 0.8824,  ..., 0.8745, 0.8745, 0.8784],\n",
            "          [0.9098, 0.8275, 0.7882,  ..., 0.8510, 0.8510, 0.8510],\n",
            "          [0.7961, 0.6353, 0.5294,  ..., 0.8392, 0.8431, 0.8431]],\n",
            "\n",
            "         [[0.8510, 0.8588, 0.8627,  ..., 0.8706, 0.8745, 0.8745],\n",
            "          [0.8510, 0.8588, 0.8667,  ..., 0.8745, 0.8745, 0.8745],\n",
            "          [0.8588, 0.8667, 0.8706,  ..., 0.8745, 0.8784, 0.8745],\n",
            "          ...,\n",
            "          [0.8314, 0.8314, 0.8431,  ..., 0.8627, 0.8627, 0.8667],\n",
            "          [0.8745, 0.7922, 0.7490,  ..., 0.8392, 0.8392, 0.8392],\n",
            "          [0.7608, 0.6000, 0.4902,  ..., 0.8275, 0.8314, 0.8314]],\n",
            "\n",
            "         [[0.9373, 0.9333, 0.9294,  ..., 0.9137, 0.9059, 0.9059],\n",
            "          [0.9373, 0.9333, 0.9294,  ..., 0.9176, 0.9059, 0.9059],\n",
            "          [0.9333, 0.9294, 0.9216,  ..., 0.9176, 0.9098, 0.9059],\n",
            "          ...,\n",
            "          [0.8510, 0.8510, 0.8745,  ..., 0.8902, 0.8902, 0.8941],\n",
            "          [0.8941, 0.8118, 0.7804,  ..., 0.8667, 0.8667, 0.8667],\n",
            "          [0.7804, 0.6196, 0.5216,  ..., 0.8549, 0.8588, 0.8588]]],\n",
            "\n",
            "\n",
            "        [[[0.1255, 0.0471, 0.2667,  ..., 0.1373, 0.4706, 0.3020],\n",
            "          [0.2039, 0.1490, 0.1804,  ..., 0.2078, 0.1529, 0.2471],\n",
            "          [0.1608, 0.0667, 0.2392,  ..., 0.2392, 0.0549, 0.0353],\n",
            "          ...,\n",
            "          [0.5725, 0.4667, 0.3608,  ..., 1.0000, 0.9961, 1.0000],\n",
            "          [0.6196, 0.4784, 0.4000,  ..., 0.8667, 0.8431, 0.8431],\n",
            "          [0.3882, 0.3765, 0.3608,  ..., 0.8196, 0.9804, 0.7961]],\n",
            "\n",
            "         [[0.2118, 0.1333, 0.3529,  ..., 0.2196, 0.5529, 0.3843],\n",
            "          [0.2902, 0.2353, 0.2667,  ..., 0.2902, 0.2353, 0.3294],\n",
            "          [0.2392, 0.1451, 0.3176,  ..., 0.3216, 0.1373, 0.1176],\n",
            "          ...,\n",
            "          [0.5569, 0.4588, 0.3451,  ..., 1.0000, 0.9843, 1.0000],\n",
            "          [0.6078, 0.4784, 0.3882,  ..., 0.8549, 0.8314, 0.8314],\n",
            "          [0.3882, 0.3765, 0.3608,  ..., 0.8078, 0.9686, 0.7843]],\n",
            "\n",
            "         [[0.1608, 0.0824, 0.3020,  ..., 0.1451, 0.4863, 0.3176],\n",
            "          [0.2392, 0.1843, 0.2157,  ..., 0.2157, 0.1686, 0.2627],\n",
            "          [0.1922, 0.0980, 0.2706,  ..., 0.2549, 0.0784, 0.0588],\n",
            "          ...,\n",
            "          [0.5137, 0.4118, 0.3020,  ..., 0.9647, 0.9490, 0.9647],\n",
            "          [0.5725, 0.4392, 0.3529,  ..., 0.8196, 0.7961, 0.7961],\n",
            "          [0.3490, 0.3373, 0.3216,  ..., 0.7725, 0.9333, 0.7490]]],\n",
            "\n",
            "\n",
            "        [[[0.2275, 0.2980, 0.3569,  ..., 0.9529, 0.9529, 0.9529],\n",
            "          [0.2000, 0.2549, 0.2980,  ..., 0.9490, 0.9529, 0.9490],\n",
            "          [0.2667, 0.2863, 0.3020,  ..., 0.9529, 0.9529, 0.9529],\n",
            "          ...,\n",
            "          [0.0824, 0.1255, 0.0392,  ..., 0.7412, 0.7765, 0.7922],\n",
            "          [0.0667, 0.0275, 0.0078,  ..., 0.6745, 0.7176, 0.7412],\n",
            "          [0.0235, 0.0196, 0.0824,  ..., 0.6471, 0.6902, 0.7176]],\n",
            "\n",
            "         [[0.4275, 0.5020, 0.5529,  ..., 1.0000, 1.0000, 1.0000],\n",
            "          [0.3961, 0.4549, 0.5059,  ..., 0.9961, 1.0000, 0.9961],\n",
            "          [0.4627, 0.4941, 0.5059,  ..., 0.9922, 0.9922, 0.9922],\n",
            "          ...,\n",
            "          [0.1333, 0.1843, 0.0980,  ..., 0.8353, 0.8549, 0.8667],\n",
            "          [0.1255, 0.0941, 0.0667,  ..., 0.8275, 0.8627, 0.8784],\n",
            "          [0.0941, 0.0824, 0.1412,  ..., 0.8314, 0.8706, 0.8902]],\n",
            "\n",
            "         [[0.5098, 0.5961, 0.6824,  ..., 1.0000, 1.0000, 1.0000],\n",
            "          [0.4941, 0.5686, 0.6392,  ..., 0.9961, 1.0000, 0.9961],\n",
            "          [0.5922, 0.6275, 0.6627,  ..., 0.9961, 0.9961, 0.9961],\n",
            "          ...,\n",
            "          [0.0627, 0.1098, 0.0235,  ..., 0.9686, 0.9843, 0.9922],\n",
            "          [0.0431, 0.0314, 0.0549,  ..., 0.9412, 0.9686, 0.9882],\n",
            "          [0.0078, 0.0314, 0.1686,  ..., 0.9333, 0.9725, 0.9882]]],\n",
            "\n",
            "\n",
            "        ...,\n",
            "\n",
            "\n",
            "        [[[0.9569, 0.9608, 0.9608,  ..., 0.9843, 0.9843, 0.9843],\n",
            "          [0.9451, 0.9451, 0.9490,  ..., 0.9843, 0.9843, 0.9843],\n",
            "          [0.9373, 0.9373, 0.9373,  ..., 0.9843, 0.9843, 0.9843],\n",
            "          ...,\n",
            "          [0.8627, 0.8118, 0.7686,  ..., 0.7725, 0.8902, 0.7961],\n",
            "          [0.7765, 0.8510, 0.7686,  ..., 0.7686, 0.7765, 0.8627],\n",
            "          [0.8235, 0.8157, 0.8588,  ..., 0.8471, 0.8000, 0.8471]],\n",
            "\n",
            "         [[0.9804, 0.9843, 0.9843,  ..., 0.9922, 0.9922, 0.9922],\n",
            "          [0.9765, 0.9765, 0.9804,  ..., 0.9922, 0.9922, 0.9922],\n",
            "          [0.9725, 0.9725, 0.9725,  ..., 0.9922, 0.9922, 0.9922],\n",
            "          ...,\n",
            "          [0.9490, 0.8980, 0.8431,  ..., 0.8392, 0.9608, 0.8667],\n",
            "          [0.8510, 0.9255, 0.8431,  ..., 0.8353, 0.8471, 0.9333],\n",
            "          [0.8980, 0.8902, 0.9333,  ..., 0.9137, 0.8627, 0.9176]],\n",
            "\n",
            "         [[0.9804, 0.9843, 0.9843,  ..., 0.9882, 0.9882, 0.9882],\n",
            "          [0.9843, 0.9843, 0.9882,  ..., 0.9882, 0.9882, 0.9882],\n",
            "          [0.9922, 0.9922, 0.9922,  ..., 0.9882, 0.9882, 0.9882],\n",
            "          ...,\n",
            "          [1.0000, 0.9490, 0.8980,  ..., 0.8706, 1.0000, 0.9137],\n",
            "          [0.9098, 0.9804, 0.8980,  ..., 0.8667, 0.8941, 0.9804],\n",
            "          [0.9569, 0.9490, 0.9882,  ..., 0.9451, 0.9137, 0.9647]]],\n",
            "\n",
            "\n",
            "        [[[0.4902, 0.5059, 0.5255,  ..., 0.4784, 0.4667, 0.5569],\n",
            "          [0.5255, 0.5373, 0.5569,  ..., 0.5176, 0.4627, 0.5020],\n",
            "          [0.5961, 0.5843, 0.5882,  ..., 0.5529, 0.5098, 0.5333],\n",
            "          ...,\n",
            "          [0.4196, 0.3490, 0.3804,  ..., 0.3490, 0.3569, 0.3569],\n",
            "          [0.4627, 0.3843, 0.4000,  ..., 0.3412, 0.3529, 0.3529],\n",
            "          [0.5294, 0.4510, 0.4275,  ..., 0.3412, 0.3608, 0.3608]],\n",
            "\n",
            "         [[0.4902, 0.5059, 0.5255,  ..., 0.4706, 0.4588, 0.5490],\n",
            "          [0.5255, 0.5373, 0.5569,  ..., 0.5098, 0.4549, 0.4941],\n",
            "          [0.5961, 0.5843, 0.5882,  ..., 0.5451, 0.5020, 0.5255],\n",
            "          ...,\n",
            "          [0.4157, 0.3451, 0.3765,  ..., 0.3412, 0.3490, 0.3490],\n",
            "          [0.4588, 0.3804, 0.3961,  ..., 0.3333, 0.3451, 0.3451],\n",
            "          [0.5255, 0.4471, 0.4235,  ..., 0.3333, 0.3529, 0.3529]],\n",
            "\n",
            "         [[0.5373, 0.5529, 0.5725,  ..., 0.4824, 0.4706, 0.5608],\n",
            "          [0.5725, 0.5843, 0.6039,  ..., 0.5216, 0.4667, 0.5059],\n",
            "          [0.6431, 0.6314, 0.6353,  ..., 0.5569, 0.5137, 0.5373],\n",
            "          ...,\n",
            "          [0.4078, 0.3373, 0.3686,  ..., 0.3529, 0.3608, 0.3608],\n",
            "          [0.4510, 0.3725, 0.3882,  ..., 0.3451, 0.3569, 0.3569],\n",
            "          [0.5176, 0.4392, 0.4157,  ..., 0.3451, 0.3647, 0.3647]]],\n",
            "\n",
            "\n",
            "        [[[0.4627, 0.4157, 0.4824,  ..., 0.7725, 0.6275, 0.6392],\n",
            "          [0.7059, 0.6275, 0.4745,  ..., 0.7098, 0.7922, 0.6000],\n",
            "          [0.4667, 0.5294, 0.4745,  ..., 0.7255, 0.6471, 0.6000],\n",
            "          ...,\n",
            "          [0.4000, 0.4745, 0.4431,  ..., 0.4157, 0.3961, 0.3686],\n",
            "          [0.3922, 0.4510, 0.4588,  ..., 0.3922, 0.4039, 0.3961],\n",
            "          [0.3843, 0.4863, 0.4078,  ..., 0.4000, 0.3922, 0.3725]],\n",
            "\n",
            "         [[0.5098, 0.4627, 0.5373,  ..., 0.8078, 0.6627, 0.6863],\n",
            "          [0.7490, 0.6745, 0.5294,  ..., 0.7373, 0.8275, 0.6471],\n",
            "          [0.5255, 0.5882, 0.5333,  ..., 0.7490, 0.6784, 0.6353],\n",
            "          ...,\n",
            "          [0.4235, 0.4980, 0.4588,  ..., 0.4471, 0.4275, 0.4000],\n",
            "          [0.4118, 0.4706, 0.4784,  ..., 0.4235, 0.4353, 0.4275],\n",
            "          [0.4039, 0.5059, 0.4275,  ..., 0.4314, 0.4235, 0.4039]],\n",
            "\n",
            "         [[0.4314, 0.3765, 0.4471,  ..., 0.4902, 0.3451, 0.3569],\n",
            "          [0.6157, 0.5333, 0.3882,  ..., 0.4314, 0.5098, 0.3255],\n",
            "          [0.2706, 0.3333, 0.2784,  ..., 0.4588, 0.3765, 0.3255],\n",
            "          ...,\n",
            "          [0.4157, 0.4824, 0.4549,  ..., 0.4549, 0.4353, 0.4078],\n",
            "          [0.3961, 0.4471, 0.4627,  ..., 0.4314, 0.4431, 0.4353],\n",
            "          [0.3804, 0.4824, 0.4039,  ..., 0.4392, 0.4314, 0.4118]]]])\n",
            "labels\n",
            "tensor([113,  57, 101, 127, 187, 108, 117,  62, 193, 190,  60, 150, 100,  40,\n",
            "        197, 148, 165,  64, 156,  34,  67, 148,  99, 119, 195, 177, 123,  72,\n",
            "         76, 122, 129, 179, 130, 183, 109, 102, 192,  27, 173, 148, 109,  76,\n",
            "         24,  30, 190, 181, 181, 166, 193,  44,  35, 186,  44,  80,  34, 120,\n",
            "         35,  13, 125, 103,  68,  83, 132, 114])\n"
          ]
        },
        {
          "name": "stderr",
          "output_type": "stream",
          "text": [
            "/Library/Frameworks/Python.framework/Versions/3.11/lib/python3.11/site-packages/torch/nn/modules/container.py:217: UserWarning: Implicit dimension choice for softmax has been deprecated. Change the call to include dim=X as an argument.\n",
            "  input = module(input)\n"
          ]
        },
        {
          "ename": "RuntimeError",
          "evalue": "size mismatch (got input: [64, 64, 14, 14] , target: [64, 1, 1]",
          "output_type": "error",
          "traceback": [
            "\u001b[0;31m---------------------------------------------------------------------------\u001b[0m",
            "\u001b[0;31mRuntimeError\u001b[0m                              Traceback (most recent call last)",
            "\u001b[1;32m/Users/owhy/Desktop/github/project1-image-recognition-and-caption/ImageNet_model.ipynb Cell 9\u001b[0m line \u001b[0;36m2\n\u001b[1;32m     <a href='vscode-notebook-cell:/Users/owhy/Desktop/github/project1-image-recognition-and-caption/ImageNet_model.ipynb#X11sZmlsZQ%3D%3D?line=18'>19</a>\u001b[0m labels \u001b[39m=\u001b[39m labels\u001b[39m.\u001b[39mview(\u001b[39m64\u001b[39m, \u001b[39m1\u001b[39m, \u001b[39m1\u001b[39m)\n\u001b[1;32m     <a href='vscode-notebook-cell:/Users/owhy/Desktop/github/project1-image-recognition-and-caption/ImageNet_model.ipynb#X11sZmlsZQ%3D%3D?line=19'>20</a>\u001b[0m outputs \u001b[39m=\u001b[39m model(inputs)\n\u001b[0;32m---> <a href='vscode-notebook-cell:/Users/owhy/Desktop/github/project1-image-recognition-and-caption/ImageNet_model.ipynb#X11sZmlsZQ%3D%3D?line=20'>21</a>\u001b[0m loss \u001b[39m=\u001b[39m criterion(outputs, labels)\n\u001b[1;32m     <a href='vscode-notebook-cell:/Users/owhy/Desktop/github/project1-image-recognition-and-caption/ImageNet_model.ipynb#X11sZmlsZQ%3D%3D?line=21'>22</a>\u001b[0m loss\u001b[39m.\u001b[39mbackward()\n\u001b[1;32m     <a href='vscode-notebook-cell:/Users/owhy/Desktop/github/project1-image-recognition-and-caption/ImageNet_model.ipynb#X11sZmlsZQ%3D%3D?line=22'>23</a>\u001b[0m optimizer\u001b[39m.\u001b[39mstep()\n",
            "File \u001b[0;32m/Library/Frameworks/Python.framework/Versions/3.11/lib/python3.11/site-packages/torch/nn/modules/module.py:1501\u001b[0m, in \u001b[0;36mModule._call_impl\u001b[0;34m(self, *args, **kwargs)\u001b[0m\n\u001b[1;32m   1496\u001b[0m \u001b[39m# If we don't have any hooks, we want to skip the rest of the logic in\u001b[39;00m\n\u001b[1;32m   1497\u001b[0m \u001b[39m# this function, and just call forward.\u001b[39;00m\n\u001b[1;32m   1498\u001b[0m \u001b[39mif\u001b[39;00m \u001b[39mnot\u001b[39;00m (\u001b[39mself\u001b[39m\u001b[39m.\u001b[39m_backward_hooks \u001b[39mor\u001b[39;00m \u001b[39mself\u001b[39m\u001b[39m.\u001b[39m_backward_pre_hooks \u001b[39mor\u001b[39;00m \u001b[39mself\u001b[39m\u001b[39m.\u001b[39m_forward_hooks \u001b[39mor\u001b[39;00m \u001b[39mself\u001b[39m\u001b[39m.\u001b[39m_forward_pre_hooks\n\u001b[1;32m   1499\u001b[0m         \u001b[39mor\u001b[39;00m _global_backward_pre_hooks \u001b[39mor\u001b[39;00m _global_backward_hooks\n\u001b[1;32m   1500\u001b[0m         \u001b[39mor\u001b[39;00m _global_forward_hooks \u001b[39mor\u001b[39;00m _global_forward_pre_hooks):\n\u001b[0;32m-> 1501\u001b[0m     \u001b[39mreturn\u001b[39;00m forward_call(\u001b[39m*\u001b[39;49margs, \u001b[39m*\u001b[39;49m\u001b[39m*\u001b[39;49mkwargs)\n\u001b[1;32m   1502\u001b[0m \u001b[39m# Do not call functions when jit is used\u001b[39;00m\n\u001b[1;32m   1503\u001b[0m full_backward_hooks, non_full_backward_hooks \u001b[39m=\u001b[39m [], []\n",
            "File \u001b[0;32m/Library/Frameworks/Python.framework/Versions/3.11/lib/python3.11/site-packages/torch/nn/modules/loss.py:1174\u001b[0m, in \u001b[0;36mCrossEntropyLoss.forward\u001b[0;34m(self, input, target)\u001b[0m\n\u001b[1;32m   1173\u001b[0m \u001b[39mdef\u001b[39;00m \u001b[39mforward\u001b[39m(\u001b[39mself\u001b[39m, \u001b[39minput\u001b[39m: Tensor, target: Tensor) \u001b[39m-\u001b[39m\u001b[39m>\u001b[39m Tensor:\n\u001b[0;32m-> 1174\u001b[0m     \u001b[39mreturn\u001b[39;00m F\u001b[39m.\u001b[39;49mcross_entropy(\u001b[39minput\u001b[39;49m, target, weight\u001b[39m=\u001b[39;49m\u001b[39mself\u001b[39;49m\u001b[39m.\u001b[39;49mweight,\n\u001b[1;32m   1175\u001b[0m                            ignore_index\u001b[39m=\u001b[39;49m\u001b[39mself\u001b[39;49m\u001b[39m.\u001b[39;49mignore_index, reduction\u001b[39m=\u001b[39;49m\u001b[39mself\u001b[39;49m\u001b[39m.\u001b[39;49mreduction,\n\u001b[1;32m   1176\u001b[0m                            label_smoothing\u001b[39m=\u001b[39;49m\u001b[39mself\u001b[39;49m\u001b[39m.\u001b[39;49mlabel_smoothing)\n",
            "File \u001b[0;32m/Library/Frameworks/Python.framework/Versions/3.11/lib/python3.11/site-packages/torch/nn/functional.py:3029\u001b[0m, in \u001b[0;36mcross_entropy\u001b[0;34m(input, target, weight, size_average, ignore_index, reduce, reduction, label_smoothing)\u001b[0m\n\u001b[1;32m   3027\u001b[0m \u001b[39mif\u001b[39;00m size_average \u001b[39mis\u001b[39;00m \u001b[39mnot\u001b[39;00m \u001b[39mNone\u001b[39;00m \u001b[39mor\u001b[39;00m reduce \u001b[39mis\u001b[39;00m \u001b[39mnot\u001b[39;00m \u001b[39mNone\u001b[39;00m:\n\u001b[1;32m   3028\u001b[0m     reduction \u001b[39m=\u001b[39m _Reduction\u001b[39m.\u001b[39mlegacy_get_string(size_average, reduce)\n\u001b[0;32m-> 3029\u001b[0m \u001b[39mreturn\u001b[39;00m torch\u001b[39m.\u001b[39;49m_C\u001b[39m.\u001b[39;49m_nn\u001b[39m.\u001b[39;49mcross_entropy_loss(\u001b[39minput\u001b[39;49m, target, weight, _Reduction\u001b[39m.\u001b[39;49mget_enum(reduction), ignore_index, label_smoothing)\n",
            "\u001b[0;31mRuntimeError\u001b[0m: size mismatch (got input: [64, 64, 14, 14] , target: [64, 1, 1]"
          ]
        }
      ],
      "source": [
        "# LOSS FUNCTION and OPTIMIZER - difference between OG and NEW\n",
        "criterion = nn.CrossEntropyLoss()\n",
        "optimizer = optim.Adam(model.parameters(), lr=0.001) # learning rate\n",
        "\n",
        "# TRAINING loop\n",
        "num_epochs = 10\n",
        "\n",
        "for epoch in range(num_epochs):\n",
        "    model.train()\n",
        "\n",
        "    for inputs, labels in train_loader:\n",
        "        optimizer.zero_grad()\n",
        "        inputs = inputs.to(device)\n",
        "        print(\"inputs\")\n",
        "        print(inputs)\n",
        "        print(\"labels\")\n",
        "        print(labels)\n",
        "        labels = labels.to(device)\n",
        "        labels = labels.view(64, 1, 1)\n",
        "        outputs = model(inputs)\n",
        "        loss = criterion(outputs, labels)\n",
        "        loss.backward()\n",
        "        optimizer.step()\n",
        "\n",
        "    # Print the average loss for this epoch\n",
        "    print(f\"Epoch {epoch+1}/{num_epochs}, Loss: {running_loss / len(gray_dataloader)}\")\n",
        "\n",
        "print(\"Training finished!\")\n",
        "\n",
        "# Saving the model\n",
        "torch.save(model.state_dict(), \"imagenet.pth\")"
      ]
    },
    {
      "cell_type": "code",
      "execution_count": 3,
      "metadata": {
        "id": "XdmtW8UQjpiT"
      },
      "outputs": [],
      "source": [
        "model.eval()\n",
        "with torch.no_grad():\n",
        "    total_correct = 0\n",
        "    total_samples = 0\n",
        "    for inputs, labels in val_loader:\n",
        "        outputs = model(inputs)\n",
        "        _, predicted = torch.max(outputs, 1)\n",
        "        total_correct += (predicted == labels).sum().item()\n",
        "        total_samples += labels.size(0)\n",
        "    accuracy = total_correct / total_samples\n",
        "    print(f\"Validation Accuracy: {accuracy * 100:.2f}%\")"
      ]
    },
    {
      "cell_type": "code",
      "execution_count": 3,
      "metadata": {
        "id": "OYERvAGHjpXp"
      },
      "outputs": [],
      "source": []
    },
    {
      "cell_type": "markdown",
      "metadata": {
        "id": "f8IHxALwjo1G"
      },
      "source": []
    },
    {
      "cell_type": "markdown",
      "metadata": {
        "id": "9aUKxoU9P05E"
      },
      "source": [
        "### loading data"
      ]
    },
    {
      "cell_type": "code",
      "execution_count": 4,
      "metadata": {
        "colab": {
          "base_uri": "https://localhost:8080/",
          "height": 408
        },
        "id": "nhoa4MXe_TFU",
        "outputId": "8c1de10c-3db1-463f-fd11-a24c24f95244"
      },
      "outputs": [
        {
          "name": "stdout",
          "output_type": "stream",
          "text": [
            "Downloading https://www.cs.toronto.edu/~kriz/cifar-10-python.tar.gz to ./datasets/cifar-10-python.tar.gz\n"
          ]
        },
        {
          "name": "stderr",
          "output_type": "stream",
          "text": [
            " 29%|██▉       | 49283072/170498071 [00:00<00:02, 51174436.77it/s]\n"
          ]
        },
        {
          "ename": "KeyboardInterrupt",
          "evalue": "ignored",
          "output_type": "error",
          "traceback": [
            "\u001b[0;31m---------------------------------------------------------------------------\u001b[0m",
            "\u001b[0;31mKeyboardInterrupt\u001b[0m                         Traceback (most recent call last)",
            "\u001b[0;32m<ipython-input-4-442adab578b0>\u001b[0m in \u001b[0;36m<cell line: 5>\u001b[0;34m()\u001b[0m\n\u001b[1;32m      3\u001b[0m \u001b[0mssl\u001b[0m\u001b[0;34m.\u001b[0m\u001b[0m_create_default_https_context\u001b[0m \u001b[0;34m=\u001b[0m \u001b[0mssl\u001b[0m\u001b[0;34m.\u001b[0m\u001b[0m_create_default_https_context\u001b[0m \u001b[0;34m=\u001b[0m \u001b[0mssl\u001b[0m\u001b[0;34m.\u001b[0m\u001b[0m_create_unverified_context\u001b[0m\u001b[0;34m\u001b[0m\u001b[0;34m\u001b[0m\u001b[0m\n\u001b[1;32m      4\u001b[0m \u001b[0;34m\u001b[0m\u001b[0m\n\u001b[0;32m----> 5\u001b[0;31m \u001b[0mtrain_data\u001b[0m \u001b[0;34m=\u001b[0m \u001b[0mCIFAR10\u001b[0m\u001b[0;34m(\u001b[0m\u001b[0mroot\u001b[0m\u001b[0;34m=\u001b[0m\u001b[0;34m'./datasets'\u001b[0m\u001b[0;34m,\u001b[0m \u001b[0mtrain\u001b[0m\u001b[0;34m=\u001b[0m\u001b[0;32mTrue\u001b[0m\u001b[0;34m,\u001b[0m \u001b[0mdownload\u001b[0m\u001b[0;34m=\u001b[0m\u001b[0;32mTrue\u001b[0m\u001b[0;34m,\u001b[0m \u001b[0mtransform\u001b[0m\u001b[0;34m=\u001b[0m\u001b[0mtransforms\u001b[0m\u001b[0;34m.\u001b[0m\u001b[0mToTensor\u001b[0m\u001b[0;34m(\u001b[0m\u001b[0;34m)\u001b[0m\u001b[0;34m)\u001b[0m\u001b[0;34m\u001b[0m\u001b[0;34m\u001b[0m\u001b[0m\n\u001b[0m\u001b[1;32m      6\u001b[0m \u001b[0mtest_data\u001b[0m \u001b[0;34m=\u001b[0m \u001b[0mCIFAR10\u001b[0m\u001b[0;34m(\u001b[0m\u001b[0mroot\u001b[0m\u001b[0;34m=\u001b[0m\u001b[0;34m'./datasets'\u001b[0m\u001b[0;34m,\u001b[0m \u001b[0mtrain\u001b[0m\u001b[0;34m=\u001b[0m\u001b[0;32mFalse\u001b[0m\u001b[0;34m,\u001b[0m \u001b[0mdownload\u001b[0m\u001b[0;34m=\u001b[0m\u001b[0;32mFalse\u001b[0m\u001b[0;34m,\u001b[0m \u001b[0mtransform\u001b[0m\u001b[0;34m=\u001b[0m\u001b[0mtransforms\u001b[0m\u001b[0;34m.\u001b[0m\u001b[0mToTensor\u001b[0m\u001b[0;34m(\u001b[0m\u001b[0;34m)\u001b[0m\u001b[0;34m)\u001b[0m\u001b[0;34m\u001b[0m\u001b[0;34m\u001b[0m\u001b[0m\n",
            "\u001b[0;32m/usr/local/lib/python3.10/dist-packages/torchvision/datasets/cifar.py\u001b[0m in \u001b[0;36m__init__\u001b[0;34m(self, root, train, transform, target_transform, download)\u001b[0m\n\u001b[1;32m     63\u001b[0m \u001b[0;34m\u001b[0m\u001b[0m\n\u001b[1;32m     64\u001b[0m         \u001b[0;32mif\u001b[0m \u001b[0mdownload\u001b[0m\u001b[0;34m:\u001b[0m\u001b[0;34m\u001b[0m\u001b[0;34m\u001b[0m\u001b[0m\n\u001b[0;32m---> 65\u001b[0;31m             \u001b[0mself\u001b[0m\u001b[0;34m.\u001b[0m\u001b[0mdownload\u001b[0m\u001b[0;34m(\u001b[0m\u001b[0;34m)\u001b[0m\u001b[0;34m\u001b[0m\u001b[0;34m\u001b[0m\u001b[0m\n\u001b[0m\u001b[1;32m     66\u001b[0m \u001b[0;34m\u001b[0m\u001b[0m\n\u001b[1;32m     67\u001b[0m         \u001b[0;32mif\u001b[0m \u001b[0;32mnot\u001b[0m \u001b[0mself\u001b[0m\u001b[0;34m.\u001b[0m\u001b[0m_check_integrity\u001b[0m\u001b[0;34m(\u001b[0m\u001b[0;34m)\u001b[0m\u001b[0;34m:\u001b[0m\u001b[0;34m\u001b[0m\u001b[0;34m\u001b[0m\u001b[0m\n",
            "\u001b[0;32m/usr/local/lib/python3.10/dist-packages/torchvision/datasets/cifar.py\u001b[0m in \u001b[0;36mdownload\u001b[0;34m(self)\u001b[0m\n\u001b[1;32m    137\u001b[0m             \u001b[0mprint\u001b[0m\u001b[0;34m(\u001b[0m\u001b[0;34m\"Files already downloaded and verified\"\u001b[0m\u001b[0;34m)\u001b[0m\u001b[0;34m\u001b[0m\u001b[0;34m\u001b[0m\u001b[0m\n\u001b[1;32m    138\u001b[0m             \u001b[0;32mreturn\u001b[0m\u001b[0;34m\u001b[0m\u001b[0;34m\u001b[0m\u001b[0m\n\u001b[0;32m--> 139\u001b[0;31m         \u001b[0mdownload_and_extract_archive\u001b[0m\u001b[0;34m(\u001b[0m\u001b[0mself\u001b[0m\u001b[0;34m.\u001b[0m\u001b[0murl\u001b[0m\u001b[0;34m,\u001b[0m \u001b[0mself\u001b[0m\u001b[0;34m.\u001b[0m\u001b[0mroot\u001b[0m\u001b[0;34m,\u001b[0m \u001b[0mfilename\u001b[0m\u001b[0;34m=\u001b[0m\u001b[0mself\u001b[0m\u001b[0;34m.\u001b[0m\u001b[0mfilename\u001b[0m\u001b[0;34m,\u001b[0m \u001b[0mmd5\u001b[0m\u001b[0;34m=\u001b[0m\u001b[0mself\u001b[0m\u001b[0;34m.\u001b[0m\u001b[0mtgz_md5\u001b[0m\u001b[0;34m)\u001b[0m\u001b[0;34m\u001b[0m\u001b[0;34m\u001b[0m\u001b[0m\n\u001b[0m\u001b[1;32m    140\u001b[0m \u001b[0;34m\u001b[0m\u001b[0m\n\u001b[1;32m    141\u001b[0m     \u001b[0;32mdef\u001b[0m \u001b[0mextra_repr\u001b[0m\u001b[0;34m(\u001b[0m\u001b[0mself\u001b[0m\u001b[0;34m)\u001b[0m \u001b[0;34m->\u001b[0m \u001b[0mstr\u001b[0m\u001b[0;34m:\u001b[0m\u001b[0;34m\u001b[0m\u001b[0;34m\u001b[0m\u001b[0m\n",
            "\u001b[0;32m/usr/local/lib/python3.10/dist-packages/torchvision/datasets/utils.py\u001b[0m in \u001b[0;36mdownload_and_extract_archive\u001b[0;34m(url, download_root, extract_root, filename, md5, remove_finished)\u001b[0m\n\u001b[1;32m    432\u001b[0m         \u001b[0mfilename\u001b[0m \u001b[0;34m=\u001b[0m \u001b[0mos\u001b[0m\u001b[0;34m.\u001b[0m\u001b[0mpath\u001b[0m\u001b[0;34m.\u001b[0m\u001b[0mbasename\u001b[0m\u001b[0;34m(\u001b[0m\u001b[0murl\u001b[0m\u001b[0;34m)\u001b[0m\u001b[0;34m\u001b[0m\u001b[0;34m\u001b[0m\u001b[0m\n\u001b[1;32m    433\u001b[0m \u001b[0;34m\u001b[0m\u001b[0m\n\u001b[0;32m--> 434\u001b[0;31m     \u001b[0mdownload_url\u001b[0m\u001b[0;34m(\u001b[0m\u001b[0murl\u001b[0m\u001b[0;34m,\u001b[0m \u001b[0mdownload_root\u001b[0m\u001b[0;34m,\u001b[0m \u001b[0mfilename\u001b[0m\u001b[0;34m,\u001b[0m \u001b[0mmd5\u001b[0m\u001b[0;34m)\u001b[0m\u001b[0;34m\u001b[0m\u001b[0;34m\u001b[0m\u001b[0m\n\u001b[0m\u001b[1;32m    435\u001b[0m \u001b[0;34m\u001b[0m\u001b[0m\n\u001b[1;32m    436\u001b[0m     \u001b[0marchive\u001b[0m \u001b[0;34m=\u001b[0m \u001b[0mos\u001b[0m\u001b[0;34m.\u001b[0m\u001b[0mpath\u001b[0m\u001b[0;34m.\u001b[0m\u001b[0mjoin\u001b[0m\u001b[0;34m(\u001b[0m\u001b[0mdownload_root\u001b[0m\u001b[0;34m,\u001b[0m \u001b[0mfilename\u001b[0m\u001b[0;34m)\u001b[0m\u001b[0;34m\u001b[0m\u001b[0;34m\u001b[0m\u001b[0m\n",
            "\u001b[0;32m/usr/local/lib/python3.10/dist-packages/torchvision/datasets/utils.py\u001b[0m in \u001b[0;36mdownload_url\u001b[0;34m(url, root, filename, md5, max_redirect_hops)\u001b[0m\n\u001b[1;32m    142\u001b[0m         \u001b[0;32mtry\u001b[0m\u001b[0;34m:\u001b[0m\u001b[0;34m\u001b[0m\u001b[0;34m\u001b[0m\u001b[0m\n\u001b[1;32m    143\u001b[0m             \u001b[0mprint\u001b[0m\u001b[0;34m(\u001b[0m\u001b[0;34m\"Downloading \"\u001b[0m \u001b[0;34m+\u001b[0m \u001b[0murl\u001b[0m \u001b[0;34m+\u001b[0m \u001b[0;34m\" to \"\u001b[0m \u001b[0;34m+\u001b[0m \u001b[0mfpath\u001b[0m\u001b[0;34m)\u001b[0m\u001b[0;34m\u001b[0m\u001b[0;34m\u001b[0m\u001b[0m\n\u001b[0;32m--> 144\u001b[0;31m             \u001b[0m_urlretrieve\u001b[0m\u001b[0;34m(\u001b[0m\u001b[0murl\u001b[0m\u001b[0;34m,\u001b[0m \u001b[0mfpath\u001b[0m\u001b[0;34m)\u001b[0m\u001b[0;34m\u001b[0m\u001b[0;34m\u001b[0m\u001b[0m\n\u001b[0m\u001b[1;32m    145\u001b[0m         \u001b[0;32mexcept\u001b[0m \u001b[0;34m(\u001b[0m\u001b[0murllib\u001b[0m\u001b[0;34m.\u001b[0m\u001b[0merror\u001b[0m\u001b[0;34m.\u001b[0m\u001b[0mURLError\u001b[0m\u001b[0;34m,\u001b[0m \u001b[0mOSError\u001b[0m\u001b[0;34m)\u001b[0m \u001b[0;32mas\u001b[0m \u001b[0me\u001b[0m\u001b[0;34m:\u001b[0m  \u001b[0;31m# type: ignore[attr-defined]\u001b[0m\u001b[0;34m\u001b[0m\u001b[0;34m\u001b[0m\u001b[0m\n\u001b[1;32m    146\u001b[0m             \u001b[0;32mif\u001b[0m \u001b[0murl\u001b[0m\u001b[0;34m[\u001b[0m\u001b[0;34m:\u001b[0m\u001b[0;36m5\u001b[0m\u001b[0;34m]\u001b[0m \u001b[0;34m==\u001b[0m \u001b[0;34m\"https\"\u001b[0m\u001b[0;34m:\u001b[0m\u001b[0;34m\u001b[0m\u001b[0;34m\u001b[0m\u001b[0m\n",
            "\u001b[0;32m/usr/local/lib/python3.10/dist-packages/torchvision/datasets/utils.py\u001b[0m in \u001b[0;36m_urlretrieve\u001b[0;34m(url, filename, chunk_size)\u001b[0m\n\u001b[1;32m     46\u001b[0m \u001b[0;32mdef\u001b[0m \u001b[0m_urlretrieve\u001b[0m\u001b[0;34m(\u001b[0m\u001b[0murl\u001b[0m\u001b[0;34m:\u001b[0m \u001b[0mstr\u001b[0m\u001b[0;34m,\u001b[0m \u001b[0mfilename\u001b[0m\u001b[0;34m:\u001b[0m \u001b[0mstr\u001b[0m\u001b[0;34m,\u001b[0m \u001b[0mchunk_size\u001b[0m\u001b[0;34m:\u001b[0m \u001b[0mint\u001b[0m \u001b[0;34m=\u001b[0m \u001b[0;36m1024\u001b[0m \u001b[0;34m*\u001b[0m \u001b[0;36m32\u001b[0m\u001b[0;34m)\u001b[0m \u001b[0;34m->\u001b[0m \u001b[0;32mNone\u001b[0m\u001b[0;34m:\u001b[0m\u001b[0;34m\u001b[0m\u001b[0;34m\u001b[0m\u001b[0m\n\u001b[1;32m     47\u001b[0m     \u001b[0;32mwith\u001b[0m \u001b[0murllib\u001b[0m\u001b[0;34m.\u001b[0m\u001b[0mrequest\u001b[0m\u001b[0;34m.\u001b[0m\u001b[0murlopen\u001b[0m\u001b[0;34m(\u001b[0m\u001b[0murllib\u001b[0m\u001b[0;34m.\u001b[0m\u001b[0mrequest\u001b[0m\u001b[0;34m.\u001b[0m\u001b[0mRequest\u001b[0m\u001b[0;34m(\u001b[0m\u001b[0murl\u001b[0m\u001b[0;34m,\u001b[0m \u001b[0mheaders\u001b[0m\u001b[0;34m=\u001b[0m\u001b[0;34m{\u001b[0m\u001b[0;34m\"User-Agent\"\u001b[0m\u001b[0;34m:\u001b[0m \u001b[0mUSER_AGENT\u001b[0m\u001b[0;34m}\u001b[0m\u001b[0;34m)\u001b[0m\u001b[0;34m)\u001b[0m \u001b[0;32mas\u001b[0m \u001b[0mresponse\u001b[0m\u001b[0;34m:\u001b[0m\u001b[0;34m\u001b[0m\u001b[0;34m\u001b[0m\u001b[0m\n\u001b[0;32m---> 48\u001b[0;31m         \u001b[0m_save_response_content\u001b[0m\u001b[0;34m(\u001b[0m\u001b[0miter\u001b[0m\u001b[0;34m(\u001b[0m\u001b[0;32mlambda\u001b[0m\u001b[0;34m:\u001b[0m \u001b[0mresponse\u001b[0m\u001b[0;34m.\u001b[0m\u001b[0mread\u001b[0m\u001b[0;34m(\u001b[0m\u001b[0mchunk_size\u001b[0m\u001b[0;34m)\u001b[0m\u001b[0;34m,\u001b[0m \u001b[0;34mb\"\"\u001b[0m\u001b[0;34m)\u001b[0m\u001b[0;34m,\u001b[0m \u001b[0mfilename\u001b[0m\u001b[0;34m,\u001b[0m \u001b[0mlength\u001b[0m\u001b[0;34m=\u001b[0m\u001b[0mresponse\u001b[0m\u001b[0;34m.\u001b[0m\u001b[0mlength\u001b[0m\u001b[0;34m)\u001b[0m\u001b[0;34m\u001b[0m\u001b[0;34m\u001b[0m\u001b[0m\n\u001b[0m\u001b[1;32m     49\u001b[0m \u001b[0;34m\u001b[0m\u001b[0m\n\u001b[1;32m     50\u001b[0m \u001b[0;34m\u001b[0m\u001b[0m\n",
            "\u001b[0;32m/usr/local/lib/python3.10/dist-packages/torchvision/datasets/utils.py\u001b[0m in \u001b[0;36m_save_response_content\u001b[0;34m(content, destination, length)\u001b[0m\n\u001b[1;32m     35\u001b[0m ) -> None:\n\u001b[1;32m     36\u001b[0m     \u001b[0;32mwith\u001b[0m \u001b[0mopen\u001b[0m\u001b[0;34m(\u001b[0m\u001b[0mdestination\u001b[0m\u001b[0;34m,\u001b[0m \u001b[0;34m\"wb\"\u001b[0m\u001b[0;34m)\u001b[0m \u001b[0;32mas\u001b[0m \u001b[0mfh\u001b[0m\u001b[0;34m,\u001b[0m \u001b[0mtqdm\u001b[0m\u001b[0;34m(\u001b[0m\u001b[0mtotal\u001b[0m\u001b[0;34m=\u001b[0m\u001b[0mlength\u001b[0m\u001b[0;34m)\u001b[0m \u001b[0;32mas\u001b[0m \u001b[0mpbar\u001b[0m\u001b[0;34m:\u001b[0m\u001b[0;34m\u001b[0m\u001b[0;34m\u001b[0m\u001b[0m\n\u001b[0;32m---> 37\u001b[0;31m         \u001b[0;32mfor\u001b[0m \u001b[0mchunk\u001b[0m \u001b[0;32min\u001b[0m \u001b[0mcontent\u001b[0m\u001b[0;34m:\u001b[0m\u001b[0;34m\u001b[0m\u001b[0;34m\u001b[0m\u001b[0m\n\u001b[0m\u001b[1;32m     38\u001b[0m             \u001b[0;31m# filter out keep-alive new chunks\u001b[0m\u001b[0;34m\u001b[0m\u001b[0;34m\u001b[0m\u001b[0m\n\u001b[1;32m     39\u001b[0m             \u001b[0;32mif\u001b[0m \u001b[0;32mnot\u001b[0m \u001b[0mchunk\u001b[0m\u001b[0;34m:\u001b[0m\u001b[0;34m\u001b[0m\u001b[0;34m\u001b[0m\u001b[0m\n",
            "\u001b[0;32m/usr/local/lib/python3.10/dist-packages/torchvision/datasets/utils.py\u001b[0m in \u001b[0;36m<lambda>\u001b[0;34m()\u001b[0m\n\u001b[1;32m     46\u001b[0m \u001b[0;32mdef\u001b[0m \u001b[0m_urlretrieve\u001b[0m\u001b[0;34m(\u001b[0m\u001b[0murl\u001b[0m\u001b[0;34m:\u001b[0m \u001b[0mstr\u001b[0m\u001b[0;34m,\u001b[0m \u001b[0mfilename\u001b[0m\u001b[0;34m:\u001b[0m \u001b[0mstr\u001b[0m\u001b[0;34m,\u001b[0m \u001b[0mchunk_size\u001b[0m\u001b[0;34m:\u001b[0m \u001b[0mint\u001b[0m \u001b[0;34m=\u001b[0m \u001b[0;36m1024\u001b[0m \u001b[0;34m*\u001b[0m \u001b[0;36m32\u001b[0m\u001b[0;34m)\u001b[0m \u001b[0;34m->\u001b[0m \u001b[0;32mNone\u001b[0m\u001b[0;34m:\u001b[0m\u001b[0;34m\u001b[0m\u001b[0;34m\u001b[0m\u001b[0m\n\u001b[1;32m     47\u001b[0m     \u001b[0;32mwith\u001b[0m \u001b[0murllib\u001b[0m\u001b[0;34m.\u001b[0m\u001b[0mrequest\u001b[0m\u001b[0;34m.\u001b[0m\u001b[0murlopen\u001b[0m\u001b[0;34m(\u001b[0m\u001b[0murllib\u001b[0m\u001b[0;34m.\u001b[0m\u001b[0mrequest\u001b[0m\u001b[0;34m.\u001b[0m\u001b[0mRequest\u001b[0m\u001b[0;34m(\u001b[0m\u001b[0murl\u001b[0m\u001b[0;34m,\u001b[0m \u001b[0mheaders\u001b[0m\u001b[0;34m=\u001b[0m\u001b[0;34m{\u001b[0m\u001b[0;34m\"User-Agent\"\u001b[0m\u001b[0;34m:\u001b[0m \u001b[0mUSER_AGENT\u001b[0m\u001b[0;34m}\u001b[0m\u001b[0;34m)\u001b[0m\u001b[0;34m)\u001b[0m \u001b[0;32mas\u001b[0m \u001b[0mresponse\u001b[0m\u001b[0;34m:\u001b[0m\u001b[0;34m\u001b[0m\u001b[0;34m\u001b[0m\u001b[0m\n\u001b[0;32m---> 48\u001b[0;31m         \u001b[0m_save_response_content\u001b[0m\u001b[0;34m(\u001b[0m\u001b[0miter\u001b[0m\u001b[0;34m(\u001b[0m\u001b[0;32mlambda\u001b[0m\u001b[0;34m:\u001b[0m \u001b[0mresponse\u001b[0m\u001b[0;34m.\u001b[0m\u001b[0mread\u001b[0m\u001b[0;34m(\u001b[0m\u001b[0mchunk_size\u001b[0m\u001b[0;34m)\u001b[0m\u001b[0;34m,\u001b[0m \u001b[0;34mb\"\"\u001b[0m\u001b[0;34m)\u001b[0m\u001b[0;34m,\u001b[0m \u001b[0mfilename\u001b[0m\u001b[0;34m,\u001b[0m \u001b[0mlength\u001b[0m\u001b[0;34m=\u001b[0m\u001b[0mresponse\u001b[0m\u001b[0;34m.\u001b[0m\u001b[0mlength\u001b[0m\u001b[0;34m)\u001b[0m\u001b[0;34m\u001b[0m\u001b[0;34m\u001b[0m\u001b[0m\n\u001b[0m\u001b[1;32m     49\u001b[0m \u001b[0;34m\u001b[0m\u001b[0m\n\u001b[1;32m     50\u001b[0m \u001b[0;34m\u001b[0m\u001b[0m\n",
            "\u001b[0;32m/usr/lib/python3.10/http/client.py\u001b[0m in \u001b[0;36mread\u001b[0;34m(self, amt)\u001b[0m\n\u001b[1;32m    464\u001b[0m                 \u001b[0;31m# clip the read to the \"end of response\"\u001b[0m\u001b[0;34m\u001b[0m\u001b[0;34m\u001b[0m\u001b[0m\n\u001b[1;32m    465\u001b[0m                 \u001b[0mamt\u001b[0m \u001b[0;34m=\u001b[0m \u001b[0mself\u001b[0m\u001b[0;34m.\u001b[0m\u001b[0mlength\u001b[0m\u001b[0;34m\u001b[0m\u001b[0;34m\u001b[0m\u001b[0m\n\u001b[0;32m--> 466\u001b[0;31m             \u001b[0ms\u001b[0m \u001b[0;34m=\u001b[0m \u001b[0mself\u001b[0m\u001b[0;34m.\u001b[0m\u001b[0mfp\u001b[0m\u001b[0;34m.\u001b[0m\u001b[0mread\u001b[0m\u001b[0;34m(\u001b[0m\u001b[0mamt\u001b[0m\u001b[0;34m)\u001b[0m\u001b[0;34m\u001b[0m\u001b[0;34m\u001b[0m\u001b[0m\n\u001b[0m\u001b[1;32m    467\u001b[0m             \u001b[0;32mif\u001b[0m \u001b[0;32mnot\u001b[0m \u001b[0ms\u001b[0m \u001b[0;32mand\u001b[0m \u001b[0mamt\u001b[0m\u001b[0;34m:\u001b[0m\u001b[0;34m\u001b[0m\u001b[0;34m\u001b[0m\u001b[0m\n\u001b[1;32m    468\u001b[0m                 \u001b[0;31m# Ideally, we would raise IncompleteRead if the content-length\u001b[0m\u001b[0;34m\u001b[0m\u001b[0;34m\u001b[0m\u001b[0m\n",
            "\u001b[0;32m/usr/lib/python3.10/socket.py\u001b[0m in \u001b[0;36mreadinto\u001b[0;34m(self, b)\u001b[0m\n\u001b[1;32m    703\u001b[0m         \u001b[0;32mwhile\u001b[0m \u001b[0;32mTrue\u001b[0m\u001b[0;34m:\u001b[0m\u001b[0;34m\u001b[0m\u001b[0;34m\u001b[0m\u001b[0m\n\u001b[1;32m    704\u001b[0m             \u001b[0;32mtry\u001b[0m\u001b[0;34m:\u001b[0m\u001b[0;34m\u001b[0m\u001b[0;34m\u001b[0m\u001b[0m\n\u001b[0;32m--> 705\u001b[0;31m                 \u001b[0;32mreturn\u001b[0m \u001b[0mself\u001b[0m\u001b[0;34m.\u001b[0m\u001b[0m_sock\u001b[0m\u001b[0;34m.\u001b[0m\u001b[0mrecv_into\u001b[0m\u001b[0;34m(\u001b[0m\u001b[0mb\u001b[0m\u001b[0;34m)\u001b[0m\u001b[0;34m\u001b[0m\u001b[0;34m\u001b[0m\u001b[0m\n\u001b[0m\u001b[1;32m    706\u001b[0m             \u001b[0;32mexcept\u001b[0m \u001b[0mtimeout\u001b[0m\u001b[0;34m:\u001b[0m\u001b[0;34m\u001b[0m\u001b[0;34m\u001b[0m\u001b[0m\n\u001b[1;32m    707\u001b[0m                 \u001b[0mself\u001b[0m\u001b[0;34m.\u001b[0m\u001b[0m_timeout_occurred\u001b[0m \u001b[0;34m=\u001b[0m \u001b[0;32mTrue\u001b[0m\u001b[0;34m\u001b[0m\u001b[0;34m\u001b[0m\u001b[0m\n",
            "\u001b[0;32m/usr/lib/python3.10/ssl.py\u001b[0m in \u001b[0;36mrecv_into\u001b[0;34m(self, buffer, nbytes, flags)\u001b[0m\n\u001b[1;32m   1272\u001b[0m                   \u001b[0;34m\"non-zero flags not allowed in calls to recv_into() on %s\"\u001b[0m \u001b[0;34m%\u001b[0m\u001b[0;34m\u001b[0m\u001b[0;34m\u001b[0m\u001b[0m\n\u001b[1;32m   1273\u001b[0m                   self.__class__)\n\u001b[0;32m-> 1274\u001b[0;31m             \u001b[0;32mreturn\u001b[0m \u001b[0mself\u001b[0m\u001b[0;34m.\u001b[0m\u001b[0mread\u001b[0m\u001b[0;34m(\u001b[0m\u001b[0mnbytes\u001b[0m\u001b[0;34m,\u001b[0m \u001b[0mbuffer\u001b[0m\u001b[0;34m)\u001b[0m\u001b[0;34m\u001b[0m\u001b[0;34m\u001b[0m\u001b[0m\n\u001b[0m\u001b[1;32m   1275\u001b[0m         \u001b[0;32melse\u001b[0m\u001b[0;34m:\u001b[0m\u001b[0;34m\u001b[0m\u001b[0;34m\u001b[0m\u001b[0m\n\u001b[1;32m   1276\u001b[0m             \u001b[0;32mreturn\u001b[0m \u001b[0msuper\u001b[0m\u001b[0;34m(\u001b[0m\u001b[0;34m)\u001b[0m\u001b[0;34m.\u001b[0m\u001b[0mrecv_into\u001b[0m\u001b[0;34m(\u001b[0m\u001b[0mbuffer\u001b[0m\u001b[0;34m,\u001b[0m \u001b[0mnbytes\u001b[0m\u001b[0;34m,\u001b[0m \u001b[0mflags\u001b[0m\u001b[0;34m)\u001b[0m\u001b[0;34m\u001b[0m\u001b[0;34m\u001b[0m\u001b[0m\n",
            "\u001b[0;32m/usr/lib/python3.10/ssl.py\u001b[0m in \u001b[0;36mread\u001b[0;34m(self, len, buffer)\u001b[0m\n\u001b[1;32m   1128\u001b[0m         \u001b[0;32mtry\u001b[0m\u001b[0;34m:\u001b[0m\u001b[0;34m\u001b[0m\u001b[0;34m\u001b[0m\u001b[0m\n\u001b[1;32m   1129\u001b[0m             \u001b[0;32mif\u001b[0m \u001b[0mbuffer\u001b[0m \u001b[0;32mis\u001b[0m \u001b[0;32mnot\u001b[0m \u001b[0;32mNone\u001b[0m\u001b[0;34m:\u001b[0m\u001b[0;34m\u001b[0m\u001b[0;34m\u001b[0m\u001b[0m\n\u001b[0;32m-> 1130\u001b[0;31m                 \u001b[0;32mreturn\u001b[0m \u001b[0mself\u001b[0m\u001b[0;34m.\u001b[0m\u001b[0m_sslobj\u001b[0m\u001b[0;34m.\u001b[0m\u001b[0mread\u001b[0m\u001b[0;34m(\u001b[0m\u001b[0mlen\u001b[0m\u001b[0;34m,\u001b[0m \u001b[0mbuffer\u001b[0m\u001b[0;34m)\u001b[0m\u001b[0;34m\u001b[0m\u001b[0;34m\u001b[0m\u001b[0m\n\u001b[0m\u001b[1;32m   1131\u001b[0m             \u001b[0;32melse\u001b[0m\u001b[0;34m:\u001b[0m\u001b[0;34m\u001b[0m\u001b[0;34m\u001b[0m\u001b[0m\n\u001b[1;32m   1132\u001b[0m                 \u001b[0;32mreturn\u001b[0m \u001b[0mself\u001b[0m\u001b[0;34m.\u001b[0m\u001b[0m_sslobj\u001b[0m\u001b[0;34m.\u001b[0m\u001b[0mread\u001b[0m\u001b[0;34m(\u001b[0m\u001b[0mlen\u001b[0m\u001b[0;34m)\u001b[0m\u001b[0;34m\u001b[0m\u001b[0;34m\u001b[0m\u001b[0m\n",
            "\u001b[0;31mKeyboardInterrupt\u001b[0m: "
          ]
        }
      ],
      "source": [
        "import ssl\n",
        "# Disable SSL verification\n",
        "ssl._create_default_https_context = ssl._create_default_https_context = ssl._create_unverified_context\n",
        "\n",
        "train_data = CIFAR10(root='./datasets', train=True, download=True, transform=transforms.ToTensor())\n",
        "test_data = CIFAR10(root='./datasets', train=False, download=False, transform=transforms.ToTensor())\n"
      ]
    },
    {
      "cell_type": "code",
      "execution_count": null,
      "metadata": {
        "id": "pP4MQPfpNrv9"
      },
      "outputs": [],
      "source": [
        "def rgb_to_gray(rgb_image):\n",
        "    r, g, b = rgb_image[:, :, 0], rgb_image[:, :, 1], rgb_image[:, :, 2] # separate into individual colors\n",
        "    gray_image = (r+g+b)/3 # take the mean - luminosity method\n",
        "    return gray_image.astype(np.uint8) # converting to 1 channel\n",
        "\n",
        "# Actual Grayscale\n",
        "# def rgb_to_gray(rgb_image):\n",
        "#     r, g, b = rgb_image[:, :, 0], rgb_image[:, :, 1], rgb_image[:, :, 2] # separate into individual colors\n",
        "#     #gray_image = 0.2989 * r + 0.5870 * g + 0.1140 * b # take the mean - luminosity method\n",
        "#     #gray_image = 0.2125 * r + 0.7154 * g + 0.0721 * b\n",
        "#     return gray_image.astype(np.uint8) # converting to 1 channel"
      ]
    },
    {
      "cell_type": "code",
      "execution_count": null,
      "metadata": {
        "id": "09vb1OHTZkFW"
      },
      "outputs": [],
      "source": [
        "# get grayscale and color data\n",
        "data_from_training = train_data.data\n",
        "data_from_testing = test_data.data\n",
        "\n",
        "gray_data = np.array([rgb_to_gray(rgb_image) for rgb_image in data_from_training])\n",
        "gray_data_testing = np.array([rgb_to_gray(rgb_image) for rgb_image in data_from_testing])\n",
        "\n",
        "# convert to Tensors\n",
        "gray_tensor = torch.tensor(gray_data, dtype=torch.float32).unsqueeze(1)\n",
        "color_tensor = torch.tensor(data_from_training, dtype=torch.float32) / 255.0\n",
        "\n",
        "# Creating grayscale and color datasets\n",
        "gray_dataset = TensorDataset(gray_tensor, color_tensor)\n",
        "\n",
        "# creating dataloaders\n",
        "gray_dataloader = DataLoader(gray_dataset, batch_size=64, shuffle=True, pin_memory=True)\n",
        "color_dataloader = DataLoader(train_data, batch_size=64, shuffle=True, pin_memory=True)"
      ]
    },
    {
      "cell_type": "code",
      "execution_count": null,
      "metadata": {
        "id": "0QwzdNbrP05G"
      },
      "outputs": [],
      "source": [
        "index_to_visualize = 2\n",
        "\n",
        "for i in range(index_to_visualize):\n",
        "  original_image = Image.fromarray(data_from_training[i])\n",
        "  gray_image = Image.fromarray(gray_data[i], 'L')\n",
        "\n",
        "  plt.figure(figsize=(6, 4))\n",
        "  plt.subplot(1, 2, 1)\n",
        "  plt.imshow(original_image)\n",
        "  plt.title(\"Original (RGB)\")\n",
        "\n",
        "  plt.subplot(1, 2, 2)\n",
        "  plt.imshow(gray_image, cmap =\"gray\")\n",
        "  plt.title(\"Grayscale\")\n",
        "\n",
        "plt.show()"
      ]
    },
    {
      "cell_type": "code",
      "execution_count": null,
      "metadata": {
        "id": "eigRw5O-SaC8"
      },
      "outputs": [],
      "source": [
        "# CNN for colorizing\n",
        "class Colorizer3000(nn.Module):\n",
        "    def __init__(self):\n",
        "        super(Colorizer3000, self).__init__()\n",
        "        self.conv_layers = nn.Sequential(\n",
        "            nn.Conv2d(1, 16, kernel_size=3, stride=1, padding=1), # 1 channel goes in\n",
        "            nn.ReLU(),\n",
        "            nn.Conv2d(16, 32, kernel_size=3, stride=1, padding=1),\n",
        "            nn.ReLU(),\n",
        "            nn.Conv2d(32, 64, kernel_size=3, stride=1, padding=1), # extracting features\n",
        "            nn.ReLU(),\n",
        "            nn.Conv2d(64, 128, kernel_size=3, stride=1, padding=1), # extracting features\n",
        "            nn.ReLU(),\n",
        "            nn.Conv2d(128, 256, kernel_size=3, stride=1, padding=1), # extracting features\n",
        "            nn.ReLU()\n",
        "        )\n",
        "        self.deconv_layers = nn.Sequential(\n",
        "            nn.ConvTranspose2d(256, 128, kernel_size=3, stride=1, padding=1),\n",
        "            nn.ReLU(),\n",
        "            nn.ConvTranspose2d(128, 64, kernel_size=3, stride=1, padding=1),\n",
        "            nn.ReLU(),\n",
        "            nn.ConvTranspose2d(64, 32, kernel_size=3, stride=1, padding=1),\n",
        "            nn.ReLU(),\n",
        "            nn.ConvTranspose2d(32, 16, kernel_size=3, stride=1, padding=1),\n",
        "            nn.ReLU(),\n",
        "            nn.ConvTranspose2d(16, 3, kernel_size=3, stride=1, padding=1), # 3 channels come out\n",
        "            nn.Sigmoid()  # Sigmoid --> values are in [0, 1]\n",
        "        )\n",
        "\n",
        "    def forward(self, x): # Forward prop\n",
        "        x = self.conv_layers(x)\n",
        "        x = self.deconv_layers(x)\n",
        "        return x"
      ]
    },
    {
      "cell_type": "code",
      "execution_count": null,
      "metadata": {
        "id": "1rHi4m33SaFm"
      },
      "outputs": [],
      "source": [
        "model = Colorizer3000()\n",
        "model.to(device) # move to device\n",
        "\n",
        "# LOSS FUNCTION and OPTIMIZER - difference between OG and NEW\n",
        "criterion = nn.MSELoss()\n",
        "optimizer = optim.Adam(model.parameters(), lr=0.001) # learning rate\n",
        "\n",
        "# TRAINING loop\n",
        "num_epochs = 100\n",
        "\n",
        "for epoch in range(num_epochs):\n",
        "    model.train()\n",
        "    running_loss = 0.0 # accumulates losses for display\n",
        "    for gray_images, color_images in gray_dataloader: # run through dataloader with both gray and color images\n",
        "        gray_images = gray_images.to(device) # put to device\n",
        "        color_images = color_images.to(device)\n",
        "\n",
        "        # Zero the parameter gradients\n",
        "        optimizer.zero_grad()\n",
        "\n",
        "        # Forward pass\n",
        "        predicted_color = model(gray_images) # colorisation process\n",
        "\n",
        "        # resizing output to match the size of color_images\n",
        "        predicted_color_resized = F.interpolate(predicted_color, size=(32, 32), mode='bilinear', align_corners=False)\n",
        "        color_images = color_images.permute(0, 3, 1, 2)  # (batch_size, 32, 32, 3) to (batch_size, 3, 32, 32)\n",
        "\n",
        "        # Calculate the loss - difference between predicted-color / original image\n",
        "        loss = criterion(predicted_color_resized, color_images)\n",
        "\n",
        "        # Backward pass and optimization\n",
        "        loss.backward()\n",
        "        optimizer.step() # update params\n",
        "\n",
        "        running_loss += loss.item()\n",
        "\n",
        "    # Print the average loss for this epoch\n",
        "    print(f\"Epoch {epoch+1}/{num_epochs}, Loss: {running_loss / len(gray_dataloader)}\")\n",
        "\n",
        "print(\"Training finished!\")\n",
        "\n",
        "# Saving the model\n",
        "torch.save(model.state_dict(), \"colorizer_model.pth\")"
      ]
    },
    {
      "cell_type": "code",
      "execution_count": null,
      "metadata": {
        "id": "GYJIBUrgVeBw"
      },
      "outputs": [],
      "source": [
        "# Load the trained model\n",
        "model = Colorizer3000()\n",
        "model.load_state_dict(torch.load(\"colorizer_model.pth\"))\n",
        "model.to(device)\n",
        "model.eval() # eval mode\n",
        "\n",
        "# Colorize 10 grayscale images and compare with original colored images\n",
        "num_samples_to_visualize = 10\n",
        "\n",
        "plt.figure(figsize=(6, 3 * num_samples_to_visualize))\n",
        "\n",
        "for i in range(num_samples_to_visualize):\n",
        "    # Convert individ. grayscale image to tensor and move to device\n",
        "    gray_image = gray_data_testing[i]\n",
        "    print(\"number of gray instances - \" + str(len(gray_data_testing)))\n",
        "    print(\"number of original instances - \" + str(len(data_from_testing)))\n",
        "    gray_image_tensor = torch.tensor(gray_image, dtype=torch.float32).unsqueeze(0).to(device)\n",
        "\n",
        "    # Colorize grayscale image\n",
        "    with torch.no_grad():\n",
        "        colorized_image_tensor = model(gray_image_tensor)\n",
        "\n",
        "    #### Convert the tensor back to numpy array and normalize to [0, 1]\n",
        "    colorized_image = colorized_image_tensor.squeeze(0).cpu().numpy()\n",
        "    colorized_image = (colorized_image - colorized_image.min()) / (colorized_image.max() - colorized_image.min())\n",
        "\n",
        "    original_image = data_from_testing[i] / 255.0  # Scale to [0, 1] -> B or W -> normalisation\n",
        "\n",
        "    # Plot the original\n",
        "    plt.subplot(num_samples_to_visualize, 2, 2 * i + 1)\n",
        "    plt.imshow(original_image)\n",
        "    plt.title(\"Original (RGB)\")\n",
        "    plt.axis('off')\n",
        "\n",
        "    # Plot the colorized image\n",
        "    plt.subplot(num_samples_to_visualize, 2, 2 * i + 2)\n",
        "    plt.imshow(colorized_image.transpose(1, 2, 0))  # Transpose the tensor to (32, 32, 3)\n",
        "    plt.title(\"New Colorized\")\n",
        "    plt.axis('off')\n",
        "\n",
        "plt.tight_layout()\n",
        "plt.show()"
      ]
    },
    {
      "cell_type": "code",
      "execution_count": null,
      "metadata": {
        "id": "xYgkjo32SaNC"
      },
      "outputs": [],
      "source": []
    },
    {
      "cell_type": "code",
      "execution_count": null,
      "metadata": {
        "id": "olAIx3dUdCZg"
      },
      "outputs": [],
      "source": []
    },
    {
      "cell_type": "code",
      "execution_count": null,
      "metadata": {
        "id": "qv-aVVDqdCbP"
      },
      "outputs": [],
      "source": []
    },
    {
      "cell_type": "code",
      "execution_count": null,
      "metadata": {
        "id": "TIlfdzPfdCdQ"
      },
      "outputs": [],
      "source": []
    },
    {
      "cell_type": "code",
      "execution_count": null,
      "metadata": {
        "id": "yQ_FkKobSaRF"
      },
      "outputs": [],
      "source": [
        "# load modeling\n",
        "model = Colorizer3000()\n",
        "model.load_state_dict(torch.load(\"colorizer_model.pth\"))\n",
        "model.to(device)\n",
        "# model.eval()\n",
        "\n",
        "# Colorize a few grayscale images and compare them with the original colored images\n",
        "num_samples_to_visualize = 5\n",
        "\n",
        "plt.figure(figsize=(6, 3 * num_samples_to_visualize))\n",
        "\n",
        "for i in range(num_samples_to_visualize):\n",
        "    # Convert grayscale image to tensor and move to device\n",
        "    gray_image = gray_data[i]\n",
        "    gray_image_tensor = torch.tensor(gray_image, dtype=torch.float32).unsqueeze(0).to(device)\n",
        "\n",
        "    # Colorize the grayscale image\n",
        "    with torch.no_grad():\n",
        "        colorized_image_tensor = model(gray_image_tensor)\n",
        "\n",
        "    # Convert the tensor back to numpy array and normalize to [0, 1]\n",
        "    colorized_image = colorized_image_tensor.squeeze(0).cpu().numpy()\n",
        "    colorized_image = (colorized_image - colorized_image.min()) / (colorized_image.max() - colorized_image.min())\n",
        "\n",
        "    # Get the original colored image\n",
        "    original_image = data_from_training[i] / 255.0  # Scale to [0, 1]\n",
        "\n",
        "    # Plot the original colored image\n",
        "    #plt.figure(figsize=(8, 20))\n",
        "    plt.subplot(num_samples_to_visualize, 2, 2 * i + 1)\n",
        "    plt.imshow(original_image)\n",
        "    plt.title(\"Original (RGB)\")\n",
        "    plt.axis('off')\n",
        "\n",
        "    # Plot the colorized image\n",
        "    plt.subplot(num_samples_to_visualize, 2, 2 * i + 2)\n",
        "    plt.imshow(colorized_image.transpose(1, 2, 0))\n",
        "    plt.title(\"Colorized Attempt\")\n",
        "    plt.axis('off')\n",
        "\n",
        "plt.tight_layout()\n",
        "plt.show()\n"
      ]
    },
    {
      "cell_type": "code",
      "execution_count": null,
      "metadata": {
        "id": "A9MSFRVpsbZ4"
      },
      "outputs": [],
      "source": [
        "# Disable SSL verification\n",
        "ssl._create_default_https_context = ssl._create_default_https_context = ssl._create_unverified_context\n",
        "\n",
        "# Step 1: Create grayscale dataset\n",
        "def rgb_to_gray(image):\n",
        "    # Take the mean along the channel dimension to convert to grayscale\n",
        "    return torch.mean(image, dim=0, keepdim=True)\n",
        "\n",
        "train_data = CIFAR10(root='./datasets', train=True, download=True, transform=transforms.ToTensor())\n",
        "test_data = CIFAR10(root='./datasets', train=False, download=False, transform=transforms.ToTensor())\n",
        "\n",
        "# Apply the grayscale conversion function to the datasets\n",
        "train_data_gray = [(rgb_to_gray(image), label) for image, label in train_data]\n",
        "test_data_gray = [(rgb_to_gray(image), label) for image, label in test_data]\n",
        "\n",
        "original_train_dataloader = DataLoader(train_data, batch_size=64, shuffle=True, pin_memory=True)\n",
        "train_dataloader = DataLoader(train_data_gray, batch_size=64, shuffle=True, pin_memory=True)\n",
        "test_dataloader = DataLoader(test_data_gray, batch_size=64, shuffle=False, pin_memory=True)\n"
      ]
    },
    {
      "cell_type": "code",
      "execution_count": null,
      "metadata": {
        "id": "lkK9aHBXwk0o"
      },
      "outputs": [],
      "source": [
        "# Initialize the colorizing neural network\n",
        "colorizing_net = ColorizingNet()\n",
        "\n",
        "# Define the loss function and optimizer\n",
        "criterion = nn.MSELoss()\n",
        "optimizer = optim.Adam(colorizing_net.parameters(), lr=0.001)\n",
        "\n",
        "# Training the colorizing neural network\n",
        "num_epochs = 10\n",
        "\n",
        "for epoch in range(num_epochs):\n",
        "    colorizing_net.train()\n",
        "    running_loss = 0.0\n",
        "\n",
        "for epoch in range(num_epochs):\n",
        "    colorizing_net.train()\n",
        "    running_loss = 0.0\n",
        "\n",
        "    for grayscale_image, original_image in zip(train_dataloader, original_train_dataloader):\n",
        "        grayscale_image = grayscale_image.to(device)\n",
        "        original_image = original_image.to(device)\n",
        "        # Zero the parameter gradients\n",
        "        optimizer.zero_grad()\n",
        "\n",
        "        print(type(grayscale_image))\n",
        "        print(grayscale_image)\n",
        "        grayscale_image = torch.tensor(grayscale_image)\n",
        "        print(type(grayscale_image))\n",
        "\n",
        "        # Forward + backward + optimize\n",
        "        outputs = colorizing_net(grayscale_image)\n",
        "        loss = criterion(outputs, original_image)\n",
        "        loss.backward()\n",
        "        optimizer.step()\n",
        "\n",
        "        running_loss += loss.item()\n",
        "\n",
        "    print(f\"Epoch {epoch + 1}, Loss: {running_loss / len(train_dataloader)}\")\n",
        "\n",
        "print(\"Finished Training\")"
      ]
    },
    {
      "cell_type": "code",
      "execution_count": null,
      "metadata": {
        "id": "rjTMnTu4woPC"
      },
      "outputs": [],
      "source": [
        "# Step 3: Calculate the mean squared loss between the new colored image and the original image\n",
        "colorizing_net.eval()\n",
        "total_loss = 0.0\n",
        "num_batches = len(test_dataloader)\n",
        "\n",
        "with torch.no_grad():\n",
        "    for grayscale_image, original_image in test_dataloader:\n",
        "        inputs = grayscale_image.view(-1, 1)\n",
        "        outputs = colorizing_net(inputs)\n",
        "        loss = criterion(outputs, original_image)\n",
        "        total_loss += loss.item()\n",
        "\n",
        "mean_squared_loss = total_loss / num_batches\n",
        "print(f\"Mean Squared Loss on Test Data: {mean_squared_loss}\")"
      ]
    }
  ],
  "metadata": {
    "accelerator": "GPU",
    "colab": {
      "machine_shape": "hm",
      "provenance": []
    },
    "gpuClass": "standard",
    "kernelspec": {
      "display_name": "Python 3",
      "name": "python3"
    },
    "language_info": {
      "codemirror_mode": {
        "name": "ipython",
        "version": 3
      },
      "file_extension": ".py",
      "mimetype": "text/x-python",
      "name": "python",
      "nbconvert_exporter": "python",
      "pygments_lexer": "ipython3",
      "version": "3.11.3"
    }
  },
  "nbformat": 4,
  "nbformat_minor": 0
}
